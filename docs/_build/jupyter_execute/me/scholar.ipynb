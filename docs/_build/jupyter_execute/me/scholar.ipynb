{
 "cells": [
  {
   "cell_type": "markdown",
   "id": "662b45e1-407f-41c4-8060-34d62456192a",
   "metadata": {},
   "source": [
    "# Google Scholar\n",
    "\n",
    "Citations of 142 and h-index of 6. For detail, please refer to [Google Scholar](https://scholar.google.com.au/citations?user=IKCcceAAAAAJ&hl=en&oi=ao).\n",
    "\n",
    "\n",
    "*This page has been updated on 21st April, 2021.*"
   ]
  },
  {
   "cell_type": "code",
   "execution_count": null,
   "id": "6660d468-4c04-4ddc-8116-a23d149f978d",
   "metadata": {},
   "outputs": [],
   "source": []
  }
 ],
 "metadata": {
  "kernelspec": {
   "display_name": "jirayusjiar",
   "language": "python",
   "name": "jirayusjiar"
  },
  "language_info": {
   "codemirror_mode": {
    "name": "ipython",
    "version": 3
   },
   "file_extension": ".py",
   "mimetype": "text/x-python",
   "name": "python",
   "nbconvert_exporter": "python",
   "pygments_lexer": "ipython3",
   "version": "3.6.13"
  }
 },
 "nbformat": 4,
 "nbformat_minor": 5
}
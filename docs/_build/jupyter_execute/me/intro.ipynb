{
 "cells": [
  {
   "cell_type": "markdown",
   "metadata": {},
   "source": [
    "# Introductory Overview\n",
    "\n",
    "He is an Australian Government funded data scientist, an internationally recognised software engineering researcher, an ex-Japanese Government funded scholar, and a final-year Ph.D. student in software analytics at the Faculty of Information and Technology, Monash University, Australia. His research interests include empirical software engineering and mining software repositories (MSR). The goal of his Ph.D is to apply the knowledge of statisical modelling, experimental design, and software engineering to improve the explainability of defect prediction models.\n",
    "\n",
    "## Career Accomplishment\n",
    "\n",
    "- *Research Interests*: Empirical Software Engineering, Mining Software Repositories, Data Analytics, and Digital Health\n",
    "- *Research Excellence*: 2 TSE (IF 6.112), 1 Annals of Emergency Medicine (IF 5.799), 1 EMSE (IF 3.156), 1 Emergency Medicine Journal (IF 2.491), 1ICSE (CORE A$*$), 1 MSR (CORE A), and 1 ICSME (CORE A)\n",
    "- *Research Impact*: Google Scholar Citations of 142 and H-index of 6\n",
    "- *External Engagement*: A data scientist in an MRFF project funded by the Department Health of Australian Government with 12 hospital partners across Australia\n",
    "- *Mentoring Excellence*: Successful mentoring projects of undergraduate and graduate students as publications (1 ICSE’19 and 1 ASE’20 Tool Demonstration)\n",
    "- *Scholarship Success*: FIT Research and International Postgraduate Research Scholarships, Monash University (Full tuition and an annual living allowance of AUD27,872), Beacon of Enlightenment PhD Scholarship, The University of Adelaide (Full tuition and an annual living allowance of AUD26,682, and MEXT Scholarship, Japanese Government (Full tuition and an annual living allowance of 1,728,000 JPY)\n",
    "- *National and International Collaboration*: Dr. Ahmed E Hassan (Professor, Queen’s University), Dr. Hoa Khanh Dam (Associate Professor, University of Wollongong), Dr. Chirstoph Treude (Senior Lecturer, The University of Adelaide), and Dr. Patanamon Thongtanunam (Lecturer, The University of Melbourne)\n",
    "- *Community Service*: Reviewer sevices of EMSE, IST, JSS, and SANER. Student volunteer services in SE venues (e.g., ICSME 2018)\n",
    "\n",
    "\n",
    "## Contact\n",
    "\n",
    "Contact him at jirayus(dot)jiar(at)gmail(dot)com\n",
    "\n",
    "*This page has been updated on 21st April, 2021.* "
   ]
  },
  {
   "cell_type": "code",
   "execution_count": null,
   "metadata": {},
   "outputs": [],
   "source": []
  },
  {
   "cell_type": "markdown",
   "id": "e9a988d1",
   "metadata": {},
   "source": [
    "\n",
    "```{toctree}\n",
    ":hidden:\n",
    ":titlesonly:\n",
    "\n",
    "\n",
    "resume.ipynb\n",
    "scholar.ipynb\n",
    "```\n"
   ]
  }
 ],
 "metadata": {
  "kernelspec": {
   "display_name": "jirayusjiar",
   "language": "python",
   "name": "jirayusjiar"
  },
  "language_info": {
   "codemirror_mode": {
    "name": "ipython",
    "version": 3
   },
   "file_extension": ".py",
   "mimetype": "text/x-python",
   "name": "python",
   "nbconvert_exporter": "python",
   "pygments_lexer": "ipython3",
   "version": "3.6.13"
  }
 },
 "nbformat": 4,
 "nbformat_minor": 4
}
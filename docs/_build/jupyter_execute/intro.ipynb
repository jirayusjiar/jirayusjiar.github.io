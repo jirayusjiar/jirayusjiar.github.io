{
 "cells": [
  {
   "cell_type": "markdown",
   "metadata": {},
   "source": [
    "# Jirayus Jiarpakdee\n",
    "\n",
    "He is a Ph.D. candicate at Monash University, Australia. His research interests include empirical software engineering and mining software repositories. The gaol of his Ph.D is to apply the knowledge of statisical modelling, experimental design, and software engineering to improve the explainability of defect prediction models.\n",
    "\n",
    "## Contact\n",
    "\n",
    "Contact him at jirayus(dot)jiar(at)gmail(dot)com"
   ]
  },
  {
   "cell_type": "code",
   "execution_count": null,
   "metadata": {},
   "outputs": [],
   "source": []
  },
  {
   "cell_type": "markdown",
   "id": "8908e524",
   "metadata": {},
   "source": [
    "\n",
    "```{toctree}\n",
    ":hidden:\n",
    ":titlesonly:\n",
    "\n",
    "\n",
    "jjmisc/jjmisc.ipynb\n",
    "```\n"
   ]
  }
 ],
 "metadata": {
  "kernelspec": {
   "display_name": "Python 3",
   "language": "python",
   "name": "python3"
  },
  "language_info": {
   "codemirror_mode": {
    "name": "ipython",
    "version": 3
   },
   "file_extension": ".py",
   "mimetype": "text/x-python",
   "name": "python",
   "nbconvert_exporter": "python",
   "pygments_lexer": "ipython3",
   "version": "3.6.13"
  }
 },
 "nbformat": 4,
 "nbformat_minor": 4
}
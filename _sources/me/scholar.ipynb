{
 "cells": [
  {
   "cell_type": "markdown",
   "metadata": {},
   "source": [
    "# Google Scholar\n",
    "\n",
    "Citations of 149 and h-index of 6. For detail, please refer to [Google Scholar](https://scholar.google.com.au/citations?user=IKCcceAAAAAJ&hl=en&oi=ao).\n",
    "\n",
    "```{figure} /me/ggscholar_20210513.png\n",
    "---\n",
    "name: google-scholar-screenshot\n",
    "---\n",
    "```\n",
    "\n",
    "*This page has been updated on 13th May, 2021.*"
   ]
  },
  {
   "cell_type": "code",
   "execution_count": null,
   "metadata": {},
   "outputs": [],
   "source": []
  }
 ],
 "metadata": {
  "kernelspec": {
   "display_name": "jirayusjiar",
   "language": "python",
   "name": "jirayusjiar"
  },
  "language_info": {
   "codemirror_mode": {
    "name": "ipython",
    "version": 3
   },
   "file_extension": ".py",
   "mimetype": "text/x-python",
   "name": "python",
   "nbconvert_exporter": "python",
   "pygments_lexer": "ipython3",
   "version": "3.6.13"
  }
 },
 "nbformat": 4,
 "nbformat_minor": 5
}
